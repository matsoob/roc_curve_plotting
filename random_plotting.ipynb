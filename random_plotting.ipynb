{
 "cells": [
  {
   "attachments": {},
   "cell_type": "markdown",
   "metadata": {},
   "source": [
    "Here, I will be plotting ROC curves for models with zero predictive power (random etc) on balanced/imbalanced classification data sets to see what they look like. I'm just trying to gain more intuitions about ROC curves by playing around with them :-)"
   ]
  },
  {
   "cell_type": "code",
   "execution_count": null,
   "metadata": {},
   "outputs": [],
   "source": [
    "import numpy as np\n",
    "from matplotlib import pyplot as plt\n",
    "from typing import List"
   ]
  },
  {
   "cell_type": "code",
   "execution_count": null,
   "metadata": {},
   "outputs": [],
   "source": [
    "def plot_roc_curve(false_positive_rate: List[int], true_positive_rate: List[int]):\n",
    "    plt.figure()\n",
    "    plt.xlabel(\"False Positive\")\n",
    "    plt.ylabel(\"True Positive\")\n",
    "    plt.scatter(np.array(false_positive_rate), np.array(true_positive_rate))\n",
    "    plt.show()\n"
   ]
  },
  {
   "cell_type": "code",
   "execution_count": null,
   "metadata": {},
   "outputs": [],
   "source": [
    "def calculate_roc_and_plot(labels: np.array, predictions: np.array):\n",
    "    thresholds = np.arange(0.001, 1, 0.001)\n",
    "    false_positive_rate = np.zeros((thresholds.size,))\n",
    "    true_positive_rate = np.zeros((thresholds.size,))\n",
    "    for j in range(0, thresholds.size):\n",
    "        all_positives = 0\n",
    "        all_negatives = 0\n",
    "        true_positives = 0\n",
    "        false_positives = 0\n",
    "        threshold = thresholds[j]\n",
    "        for i in range(0, 1000):\n",
    "            label = labels[i]\n",
    "            prediction = predictions[i] >= threshold\n",
    "            if label == 1:\n",
    "                all_positives += 1\n",
    "            else:\n",
    "                all_negatives += 1\n",
    "            if prediction:\n",
    "                if label == 1:\n",
    "                    true_positives += 1\n",
    "                else:\n",
    "                    false_positives += 1\n",
    "        false_positive_rate[j] = false_positives / all_negatives\n",
    "        true_positive_rate[j] = true_positives / all_positives\n",
    "        # print(\"All Positives \", all_positives)\n",
    "        # print(\"All Negatives \", all_negatives)\n",
    "        # print(\"True Positives \", true_positives)\n",
    "        # print(\"False Positives \", false_positives)\n",
    "        # print(\"True Positive Rate \", true_positives / all_positives)\n",
    "        # print(\"False Positive Rate \", false_positives / all_negatives)\n",
    "    plot_roc_curve(false_positive_rate, true_positive_rate)"
   ]
  },
  {
   "cell_type": "code",
   "execution_count": null,
   "metadata": {},
   "outputs": [],
   "source": [
    "# Balanced case\n",
    "balanced_labels = np.random.random_integers(0,1, 1000)\n",
    "balanced_distributed_predictions = np.random.random(1000)\n",
    "calculate_roc_and_plot(balanced_labels, balanced_distributed_predictions)"
   ]
  },
  {
   "cell_type": "code",
   "execution_count": null,
   "metadata": {},
   "outputs": [],
   "source": [
    "# Imbalanced (more negative) labels, balanced predictions\n",
    "labels = np.append(np.random.random_integers(0,1,500), np.zeros(500))\n",
    "np.random.shuffle(labels)\n",
    "imbalanced_labels = labels\n",
    "balanced_distributed_predictions = np.random.random(1000)\n",
    "calculate_roc_and_plot(imbalanced_labels, balanced_distributed_predictions)"
   ]
  },
  {
   "cell_type": "code",
   "execution_count": null,
   "metadata": {},
   "outputs": [],
   "source": [
    "# Imbalanced (more positive) labels, balanced predictions\n",
    "labels = np.append(np.random.random_integers(0,1,100), np.ones(900))\n",
    "np.random.shuffle(labels)\n",
    "imbalanced_labels = labels\n",
    "balanced_distributed_predictions = np.random.random(1000)\n",
    "calculate_roc_and_plot(imbalanced_labels, balanced_distributed_predictions)"
   ]
  },
  {
   "cell_type": "code",
   "execution_count": null,
   "metadata": {},
   "outputs": [],
   "source": [
    "# Imbalanced (more positive) labels, all predictions positive\n",
    "labels = np.append(np.random.random_integers(0,1,500), np.ones(500))\n",
    "np.random.shuffle(labels)\n",
    "all_positive_predictions = np.ones(1000)\n",
    "calculate_roc_and_plot(labels, all_positive_predictions)"
   ]
  },
  {
   "cell_type": "code",
   "execution_count": null,
   "metadata": {},
   "outputs": [],
   "source": [
    "# Imbalanced (more positive) labels, all predictions negative\n",
    "labels = np.append(np.random.random_integers(0,1,500), np.ones(500))\n",
    "np.random.shuffle(labels)\n",
    "all_negative_predictions = np.zeros(1000)\n",
    "calculate_roc_and_plot(labels, all_negative_predictions)"
   ]
  },
  {
   "cell_type": "code",
   "execution_count": null,
   "metadata": {},
   "outputs": [],
   "source": [
    "# Imbalanced (more positive) labels, imbalanced predictions (in the same direction)\n",
    "# Note that, given the predictions are weighted toward the dominant class, I don't think you can call this \n",
    "# \"having no predictive power\" anymore -- it's a crude model that has learned predicting the dominant class helps\n",
    "labels = np.append(np.random.random_integers(0,1,100), np.ones(900))\n",
    "np.random.shuffle(labels)\n",
    "print(labels.mean())\n",
    "positively_weighted_predictions = np.append(np.random.random(100), (np.random.random(900)/4 + 0.75))\n",
    "print(positively_weighted_predictions.mean())\n",
    "np.random.shuffle(positively_weighted_predictions)\n",
    "calculate_roc_and_plot(labels, positively_weighted_predictions)"
   ]
  }
 ],
 "metadata": {
  "kernelspec": {
   "display_name": "Python 3",
   "language": "python",
   "name": "python3"
  },
  "language_info": {
   "codemirror_mode": {
    "name": "ipython",
    "version": 3
   },
   "file_extension": ".py",
   "mimetype": "text/x-python",
   "name": "python",
   "nbconvert_exporter": "python",
   "pygments_lexer": "ipython3",
   "version": "3.10.9"
  },
  "orig_nbformat": 4
 },
 "nbformat": 4,
 "nbformat_minor": 2
}
